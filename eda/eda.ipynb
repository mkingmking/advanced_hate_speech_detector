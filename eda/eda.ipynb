{
 "cells": [
  {
   "cell_type": "code",
   "execution_count": null,
   "metadata": {},
   "outputs": [
    {
     "ename": "",
     "evalue": "",
     "output_type": "error",
     "traceback": [
      "\u001b[1;31mRunning cells with '.venv (Python 3.13.3)' requires the ipykernel package.\n",
      "\u001b[1;31mRun the following command to install 'ipykernel' into the Python environment. \n",
      "\u001b[1;31mCommand: '/Users/MUSTAFAMERT/Desktop/hate_speech_detector/advanced_hate_speech_detector/.venv/bin/python -m pip install ipykernel -U --force-reinstall'"
     ]
    }
   ],
   "source": [
    "#label distribution\n",
    "\n",
    "# eda/label_distribution.py\n",
    "\n",
    "from app.data_ingestion import ingest_and_validate_pandera\n",
    "import matplotlib.pyplot as plt\n",
    "\n",
    "# 1. Ingest & validate via your Pandera function\n",
    "df = ingest_and_validate_pandera(\"data/raw/tweets.csv\")\n",
    "\n",
    "# 2. Compute counts\n",
    "label_counts = df[\"label\"].value_counts().sort_index()\n",
    "\n",
    "# 3. Print raw numbers and proportions\n",
    "total = label_counts.sum()\n",
    "print(\"Label counts:\\n\", label_counts.to_dict())\n",
    "print(\"\\nLabel proportions:\")\n",
    "print((label_counts / total).round(3).to_dict())\n",
    "\n",
    "# 4. Bar‐plot the distribution\n",
    "plt.figure(figsize=(6,4))\n",
    "label_counts.plot(kind=\"bar\")\n",
    "plt.title(\"Tweet Label Distribution\")\n",
    "plt.xlabel(\"Label (0 = Not Hate, 1 = Hate)\")\n",
    "plt.ylabel(\"Number of Tweets\")\n",
    "plt.tight_layout()\n",
    "plt.savefig(\"eda/label_distribution.png\")\n",
    "plt.show()\n"
   ]
  }
 ],
 "metadata": {
  "kernelspec": {
   "display_name": "Python 3",
   "language": "python",
   "name": "python3"
  },
  "language_info": {
   "name": "python",
   "version": "3.13.3"
  }
 },
 "nbformat": 4,
 "nbformat_minor": 2
}
